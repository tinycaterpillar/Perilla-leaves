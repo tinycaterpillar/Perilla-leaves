{
 "cells": [
  {
   "cell_type": "markdown",
   "metadata": {},
   "source": [
    "# 목소리 2개짜리 음성 만들기"
   ]
  },
  {
   "cell_type": "code",
   "execution_count": 1,
   "metadata": {},
   "outputs": [],
   "source": [
    "import pandas as pd\n",
    "from pydub import AudioSegment, effects\n",
    "from tqdm import tqdm\n",
    "import random"
   ]
  },
  {
   "cell_type": "code",
   "execution_count": 2,
   "metadata": {},
   "outputs": [],
   "source": [
    "def generate_samples(sample_size, data_size):\n",
    "    sampled_pairs = set()\n",
    "    \n",
    "    while len(sampled_pairs) < sample_size:\n",
    "        i = random.randint(0, data_size - 2)\n",
    "        j = random.randint(i + 1, data_size-1)\n",
    "        sampled_pairs.add((i, j))\n",
    "    \n",
    "    return list(sampled_pairs)"
   ]
  },
  {
   "cell_type": "code",
   "execution_count": 11,
   "metadata": {},
   "outputs": [],
   "source": [
    "def generate(data_frame, sampled_pairs, stored_dir):\n",
    "    ret = pd.DataFrame(columns=['id', 'path', 'label1', 'label2', 'len'])\n",
    "\n",
    "    for i, j in tqdm(sampled_pairs):\n",
    "        row_i = data_frame.iloc[i]\n",
    "        row_j = data_frame.iloc[j]\n",
    "\n",
    "        # 두 OGG 파일 불러오기\n",
    "        audio1 = AudioSegment.from_file(row_i['path'], format=\"ogg\")\n",
    "        audio2 = AudioSegment.from_file(row_j['path'], format=\"ogg\")\n",
    "        audio1 = effects.normalize(audio1)  \n",
    "        audio2 = effects.normalize(audio2) \n",
    "\n",
    "        # 두 음원 파일을 동시에 재생되도록 합치기 (믹싱)\n",
    "        combined = audio1.overlay(audio2)\n",
    "        cur_id = \"_\".join([row_i['id'], row_j['id']])\n",
    "        path = f\"./{stored_dir}/\"+cur_id+\".ogg\"\n",
    "        label1 = row_i['label1']\n",
    "        label2 = row_j['label2']\n",
    "        cur_len = max(row_i['len'], row_j['len'])\n",
    "        \n",
    "        # 하나의 행을 포함하는 데이터프레임 생성\n",
    "        new_row = pd.DataFrame([{'id': cur_id, 'path': path, 'label1': label1, 'label2': label2,'len': cur_len}])\n",
    "\n",
    "        # 빈 데이터프레임과 새 행을 포함하는 데이터프레임을 결합\n",
    "        ret = pd.concat([ret, new_row], ignore_index=True)\n",
    "\n",
    "        # 저장\n",
    "        combined.export(path, format=\"ogg\")\n",
    "    \n",
    "    return ret "
   ]
  },
  {
   "cell_type": "markdown",
   "metadata": {},
   "source": [
    "# toy_sample_two_voice"
   ]
  },
  {
   "cell_type": "code",
   "execution_count": null,
   "metadata": {},
   "outputs": [],
   "source": [
    "df = pd.read_csv(\"train_sample.csv\")\n",
    "df.shape"
   ]
  },
  {
   "cell_type": "code",
   "execution_count": null,
   "metadata": {},
   "outputs": [],
   "source": [
    "data_size = df.shape[0]\n",
    "sample_size = 10\n",
    "sampled_pairs = generate_samples(sample_size, data_size)\n",
    "stored_dir = \"toy_sample_two_voice\""
   ]
  },
  {
   "cell_type": "code",
   "execution_count": null,
   "metadata": {},
   "outputs": [],
   "source": [
    "mixed_df = generate(df, sampled_pairs, stored_dir)"
   ]
  },
  {
   "cell_type": "code",
   "execution_count": null,
   "metadata": {},
   "outputs": [],
   "source": [
    "mixed_df.head(3)"
   ]
  },
  {
   "cell_type": "code",
   "execution_count": null,
   "metadata": {},
   "outputs": [],
   "source": [
    "# 저장\n",
    "# mixed_df.to_csv(\"train_sample_two_voice.csv\", index=False)"
   ]
  },
  {
   "cell_type": "markdown",
   "metadata": {},
   "source": [
    "# train"
   ]
  },
  {
   "cell_type": "code",
   "execution_count": null,
   "metadata": {},
   "outputs": [],
   "source": [
    "whole_df = pd.read_csv(\"train_final.csv\")\n",
    "df = whole_df[whole_df['path'].str.contains('train')]\n",
    "df.shape"
   ]
  },
  {
   "cell_type": "code",
   "execution_count": null,
   "metadata": {},
   "outputs": [],
   "source": [
    "data_size = df.shape[0]\n",
    "sample_size = 10000\n",
    "sampled_pairs = generate_samples(sample_size, data_size)\n",
    "stored_dir = \"train_two_voice\""
   ]
  },
  {
   "cell_type": "code",
   "execution_count": null,
   "metadata": {},
   "outputs": [],
   "source": [
    "mixed_df = generate(df, sampled_pairs, stored_dir)"
   ]
  },
  {
   "cell_type": "code",
   "execution_count": null,
   "metadata": {},
   "outputs": [],
   "source": [
    "mixed_df.head(3)"
   ]
  },
  {
   "cell_type": "code",
   "execution_count": null,
   "metadata": {},
   "outputs": [],
   "source": [
    "# 저장\n",
    "mixed_df.to_csv(\"train_two_voice.csv\", index=False)"
   ]
  },
  {
   "cell_type": "markdown",
   "metadata": {},
   "source": [
    "# validate"
   ]
  },
  {
   "cell_type": "code",
   "execution_count": 12,
   "metadata": {},
   "outputs": [
    {
     "data": {
      "text/plain": [
       "(10256, 5)"
      ]
     },
     "execution_count": 12,
     "metadata": {},
     "output_type": "execute_result"
    }
   ],
   "source": [
    "whole_df = pd.read_csv(\"train_final.csv\")\n",
    "df = whole_df[whole_df['path'].str.contains('validate')]\n",
    "df.shape"
   ]
  },
  {
   "cell_type": "code",
   "execution_count": 13,
   "metadata": {},
   "outputs": [],
   "source": [
    "data_size = df.shape[0]\n",
    "sample_size = 10000\n",
    "sampled_pairs = generate_samples(sample_size, data_size)\n",
    "stored_dir = \"validate_two_voice\""
   ]
  },
  {
   "cell_type": "code",
   "execution_count": 14,
   "metadata": {},
   "outputs": [
    {
     "name": "stderr",
     "output_type": "stream",
     "text": [
      "100%|██████████| 10000/10000 [55:28<00:00,  3.00it/s] \n"
     ]
    }
   ],
   "source": [
    "mixed_df = generate(df, sampled_pairs, stored_dir)"
   ]
  },
  {
   "cell_type": "code",
   "execution_count": 15,
   "metadata": {},
   "outputs": [
    {
     "data": {
      "text/html": [
       "<div>\n",
       "<style scoped>\n",
       "    .dataframe tbody tr th:only-of-type {\n",
       "        vertical-align: middle;\n",
       "    }\n",
       "\n",
       "    .dataframe tbody tr th {\n",
       "        vertical-align: top;\n",
       "    }\n",
       "\n",
       "    .dataframe thead th {\n",
       "        text-align: right;\n",
       "    }\n",
       "</style>\n",
       "<table border=\"1\" class=\"dataframe\">\n",
       "  <thead>\n",
       "    <tr style=\"text-align: right;\">\n",
       "      <th></th>\n",
       "      <th>id</th>\n",
       "      <th>path</th>\n",
       "      <th>label1</th>\n",
       "      <th>label2</th>\n",
       "      <th>len</th>\n",
       "    </tr>\n",
       "  </thead>\n",
       "  <tbody>\n",
       "    <tr>\n",
       "      <th>0</th>\n",
       "      <td>ILTREVGW_VOIEUVXP</td>\n",
       "      <td>./validate_two_voice/ILTREVGW_VOIEUVXP.ogg</td>\n",
       "      <td>real</td>\n",
       "      <td>real</td>\n",
       "      <td>3686.0</td>\n",
       "    </tr>\n",
       "    <tr>\n",
       "      <th>1</th>\n",
       "      <td>KDUKURKF_ELXMJWNP</td>\n",
       "      <td>./validate_two_voice/KDUKURKF_ELXMJWNP.ogg</td>\n",
       "      <td>real</td>\n",
       "      <td>real</td>\n",
       "      <td>2908.0</td>\n",
       "    </tr>\n",
       "    <tr>\n",
       "      <th>2</th>\n",
       "      <td>FETAYQNT_ZMGYAKOJ</td>\n",
       "      <td>./validate_two_voice/FETAYQNT_ZMGYAKOJ.ogg</td>\n",
       "      <td>real</td>\n",
       "      <td>fake</td>\n",
       "      <td>2372.0</td>\n",
       "    </tr>\n",
       "  </tbody>\n",
       "</table>\n",
       "</div>"
      ],
      "text/plain": [
       "                  id                                        path label1  \\\n",
       "0  ILTREVGW_VOIEUVXP  ./validate_two_voice/ILTREVGW_VOIEUVXP.ogg   real   \n",
       "1  KDUKURKF_ELXMJWNP  ./validate_two_voice/KDUKURKF_ELXMJWNP.ogg   real   \n",
       "2  FETAYQNT_ZMGYAKOJ  ./validate_two_voice/FETAYQNT_ZMGYAKOJ.ogg   real   \n",
       "\n",
       "  label2     len  \n",
       "0   real  3686.0  \n",
       "1   real  2908.0  \n",
       "2   fake  2372.0  "
      ]
     },
     "execution_count": 15,
     "metadata": {},
     "output_type": "execute_result"
    }
   ],
   "source": [
    "mixed_df.head(3)"
   ]
  },
  {
   "cell_type": "code",
   "execution_count": 16,
   "metadata": {},
   "outputs": [],
   "source": [
    "# 저장\n",
    "mixed_df.to_csv(\"validate_two_voice.csv\", index=False)"
   ]
  },
  {
   "cell_type": "code",
   "execution_count": null,
   "metadata": {},
   "outputs": [],
   "source": []
  }
 ],
 "metadata": {
  "kernelspec": {
   "display_name": "base",
   "language": "python",
   "name": "python3"
  },
  "language_info": {
   "codemirror_mode": {
    "name": "ipython",
    "version": 3
   },
   "file_extension": ".py",
   "mimetype": "text/x-python",
   "name": "python",
   "nbconvert_exporter": "python",
   "pygments_lexer": "ipython3",
   "version": "3.10.9"
  }
 },
 "nbformat": 4,
 "nbformat_minor": 2
}
