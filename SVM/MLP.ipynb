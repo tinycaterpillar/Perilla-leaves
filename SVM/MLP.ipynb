{
 "cells": [
  {
   "cell_type": "code",
   "execution_count": 53,
   "metadata": {},
   "outputs": [],
   "source": [
    "import pandas as pd\n",
    "import torch\n",
    "import numpy as np\n",
    "from sklearn.preprocessing import LabelEncoder\n",
    "from sklearn.model_selection import train_test_split\n",
    "from torch import nn\n",
    "import torch.nn.functional as F\n",
    "from torch.utils.data import DataLoader\n",
    "import torch.optim as optim\n",
    "import argparse\n",
    "import matplotlib.pyplot as plt\n",
    "from tqdm import tqdm\n",
    "import math\n",
    "from torch.optim.lr_scheduler import _LRScheduler\n",
    "import random"
   ]
  },
  {
   "cell_type": "markdown",
   "metadata": {},
   "source": [
    "### Randomness 제어"
   ]
  },
  {
   "cell_type": "code",
   "execution_count": 54,
   "metadata": {},
   "outputs": [],
   "source": [
    "seed = 2021\n",
    "\n",
    "random.seed(seed)\n",
    "np.random.seed(seed)\n",
    "torch.manual_seed(seed)\n",
    "torch.cuda.manual_seed_all(seed)"
   ]
  },
  {
   "cell_type": "code",
   "execution_count": 55,
   "metadata": {},
   "outputs": [
    {
     "data": {
      "text/html": [
       "<div>\n",
       "<style scoped>\n",
       "    .dataframe tbody tr th:only-of-type {\n",
       "        vertical-align: middle;\n",
       "    }\n",
       "\n",
       "    .dataframe tbody tr th {\n",
       "        vertical-align: top;\n",
       "    }\n",
       "\n",
       "    .dataframe thead th {\n",
       "        text-align: right;\n",
       "    }\n",
       "</style>\n",
       "<table border=\"1\" class=\"dataframe\">\n",
       "  <thead>\n",
       "    <tr style=\"text-align: right;\">\n",
       "      <th></th>\n",
       "      <th>년</th>\n",
       "      <th>5월평균기온</th>\n",
       "      <th>5월합강수량(mm)</th>\n",
       "      <th>5월합계일조시간</th>\n",
       "      <th>6월평균기온</th>\n",
       "      <th>6월합강수량(mm)</th>\n",
       "      <th>6월합계일조시간</th>\n",
       "      <th>7월평균기온</th>\n",
       "      <th>7월합강수량(mm)</th>\n",
       "      <th>7월합계일조시간</th>\n",
       "      <th>8월평균기온</th>\n",
       "      <th>8월합강수량(mm)</th>\n",
       "      <th>8월합계일조시간</th>\n",
       "      <th>단위면적당 생산량</th>\n",
       "    </tr>\n",
       "  </thead>\n",
       "  <tbody>\n",
       "    <tr>\n",
       "      <th>0</th>\n",
       "      <td>1996</td>\n",
       "      <td>14.2</td>\n",
       "      <td>20.2</td>\n",
       "      <td>151.1</td>\n",
       "      <td>18.0</td>\n",
       "      <td>356.5</td>\n",
       "      <td>107.6</td>\n",
       "      <td>22.0</td>\n",
       "      <td>189.4</td>\n",
       "      <td>128.3</td>\n",
       "      <td>23.0</td>\n",
       "      <td>200.0</td>\n",
       "      <td>135.8</td>\n",
       "      <td>438.0</td>\n",
       "    </tr>\n",
       "    <tr>\n",
       "      <th>1</th>\n",
       "      <td>1997</td>\n",
       "      <td>16.2</td>\n",
       "      <td>355.6</td>\n",
       "      <td>135.0</td>\n",
       "      <td>19.8</td>\n",
       "      <td>113.0</td>\n",
       "      <td>110.7</td>\n",
       "      <td>24.2</td>\n",
       "      <td>73.3</td>\n",
       "      <td>218.3</td>\n",
       "      <td>24.7</td>\n",
       "      <td>60.3</td>\n",
       "      <td>170.5</td>\n",
       "      <td>451.0</td>\n",
       "    </tr>\n",
       "  </tbody>\n",
       "</table>\n",
       "</div>"
      ],
      "text/plain": [
       "      년  5월평균기온  5월합강수량(mm)  5월합계일조시간  6월평균기온  6월합강수량(mm)  6월합계일조시간  7월평균기온  \\\n",
       "0  1996    14.2        20.2     151.1    18.0       356.5     107.6    22.0   \n",
       "1  1997    16.2       355.6     135.0    19.8       113.0     110.7    24.2   \n",
       "\n",
       "   7월합강수량(mm)  7월합계일조시간  8월평균기온  8월합강수량(mm)  8월합계일조시간  단위면적당 생산량  \n",
       "0       189.4     128.3    23.0       200.0     135.8      438.0  \n",
       "1        73.3     218.3    24.7        60.3     170.5      451.0  "
      ]
     },
     "execution_count": 55,
     "metadata": {},
     "output_type": "execute_result"
    }
   ],
   "source": [
    "file_name = \"dataset1.csv\"\n",
    "df = pd.read_csv(file_name)\n",
    "df = df.drop('Unnamed: 0', axis=1)\n",
    "df = df.drop('지점명', axis=1)\n",
    "df.head(2)"
   ]
  },
  {
   "cell_type": "markdown",
   "metadata": {},
   "source": [
    "### 지점명을 integer로 바꾸기"
   ]
  },
  {
   "cell_type": "code",
   "execution_count": 56,
   "metadata": {},
   "outputs": [
    {
     "data": {
      "text/html": [
       "<div>\n",
       "<style scoped>\n",
       "    .dataframe tbody tr th:only-of-type {\n",
       "        vertical-align: middle;\n",
       "    }\n",
       "\n",
       "    .dataframe tbody tr th {\n",
       "        vertical-align: top;\n",
       "    }\n",
       "\n",
       "    .dataframe thead th {\n",
       "        text-align: right;\n",
       "    }\n",
       "</style>\n",
       "<table border=\"1\" class=\"dataframe\">\n",
       "  <thead>\n",
       "    <tr style=\"text-align: right;\">\n",
       "      <th></th>\n",
       "      <th>년</th>\n",
       "      <th>5월평균기온</th>\n",
       "      <th>5월합강수량(mm)</th>\n",
       "      <th>5월합계일조시간</th>\n",
       "      <th>6월평균기온</th>\n",
       "      <th>6월합강수량(mm)</th>\n",
       "      <th>6월합계일조시간</th>\n",
       "      <th>7월평균기온</th>\n",
       "      <th>7월합강수량(mm)</th>\n",
       "      <th>7월합계일조시간</th>\n",
       "      <th>8월평균기온</th>\n",
       "      <th>8월합강수량(mm)</th>\n",
       "      <th>8월합계일조시간</th>\n",
       "      <th>단위면적당 생산량</th>\n",
       "    </tr>\n",
       "  </thead>\n",
       "  <tbody>\n",
       "    <tr>\n",
       "      <th>0</th>\n",
       "      <td>1996</td>\n",
       "      <td>14.2</td>\n",
       "      <td>20.2</td>\n",
       "      <td>151.1</td>\n",
       "      <td>18.0</td>\n",
       "      <td>356.5</td>\n",
       "      <td>107.6</td>\n",
       "      <td>22.0</td>\n",
       "      <td>189.4</td>\n",
       "      <td>128.3</td>\n",
       "      <td>23.0</td>\n",
       "      <td>200.0</td>\n",
       "      <td>135.8</td>\n",
       "      <td>438.0</td>\n",
       "    </tr>\n",
       "    <tr>\n",
       "      <th>1</th>\n",
       "      <td>1997</td>\n",
       "      <td>16.2</td>\n",
       "      <td>355.6</td>\n",
       "      <td>135.0</td>\n",
       "      <td>19.8</td>\n",
       "      <td>113.0</td>\n",
       "      <td>110.7</td>\n",
       "      <td>24.2</td>\n",
       "      <td>73.3</td>\n",
       "      <td>218.3</td>\n",
       "      <td>24.7</td>\n",
       "      <td>60.3</td>\n",
       "      <td>170.5</td>\n",
       "      <td>451.0</td>\n",
       "    </tr>\n",
       "  </tbody>\n",
       "</table>\n",
       "</div>"
      ],
      "text/plain": [
       "      년  5월평균기온  5월합강수량(mm)  5월합계일조시간  6월평균기온  6월합강수량(mm)  6월합계일조시간  7월평균기온  \\\n",
       "0  1996    14.2        20.2     151.1    18.0       356.5     107.6    22.0   \n",
       "1  1997    16.2       355.6     135.0    19.8       113.0     110.7    24.2   \n",
       "\n",
       "   7월합강수량(mm)  7월합계일조시간  8월평균기온  8월합강수량(mm)  8월합계일조시간  단위면적당 생산량  \n",
       "0       189.4     128.3    23.0       200.0     135.8      438.0  \n",
       "1        73.3     218.3    24.7        60.3     170.5      451.0  "
      ]
     },
     "execution_count": 56,
     "metadata": {},
     "output_type": "execute_result"
    }
   ],
   "source": [
    "le = LabelEncoder()\n",
    "# df['지점명'] = le.fit_transform(df['지점명'])\n",
    "df.head(2)\n",
    "\n",
    "# 지점명 복원은 le.inverse_transform 으로 가능"
   ]
  },
  {
   "cell_type": "markdown",
   "metadata": {},
   "source": [
    "### 결측값 처리\n",
    "결측값이 있는 행은 그냥 지워버렸음. 다른 방식으로 처리 가능하니 상의해볼것"
   ]
  },
  {
   "cell_type": "code",
   "execution_count": 57,
   "metadata": {},
   "outputs": [
    {
     "name": "stdout",
     "output_type": "stream",
     "text": [
      "490\n"
     ]
    },
    {
     "data": {
      "text/html": [
       "<div>\n",
       "<style scoped>\n",
       "    .dataframe tbody tr th:only-of-type {\n",
       "        vertical-align: middle;\n",
       "    }\n",
       "\n",
       "    .dataframe tbody tr th {\n",
       "        vertical-align: top;\n",
       "    }\n",
       "\n",
       "    .dataframe thead th {\n",
       "        text-align: right;\n",
       "    }\n",
       "</style>\n",
       "<table border=\"1\" class=\"dataframe\">\n",
       "  <thead>\n",
       "    <tr style=\"text-align: right;\">\n",
       "      <th></th>\n",
       "      <th>년</th>\n",
       "      <th>5월평균기온</th>\n",
       "      <th>5월합강수량(mm)</th>\n",
       "      <th>5월합계일조시간</th>\n",
       "      <th>6월평균기온</th>\n",
       "      <th>6월합강수량(mm)</th>\n",
       "      <th>6월합계일조시간</th>\n",
       "      <th>7월평균기온</th>\n",
       "      <th>7월합강수량(mm)</th>\n",
       "      <th>7월합계일조시간</th>\n",
       "      <th>8월평균기온</th>\n",
       "      <th>8월합강수량(mm)</th>\n",
       "      <th>8월합계일조시간</th>\n",
       "      <th>단위면적당 생산량</th>\n",
       "    </tr>\n",
       "  </thead>\n",
       "  <tbody>\n",
       "    <tr>\n",
       "      <th>790</th>\n",
       "      <td>2000</td>\n",
       "      <td>16.1</td>\n",
       "      <td>29.2</td>\n",
       "      <td>215.0</td>\n",
       "      <td>21.4</td>\n",
       "      <td>203.9</td>\n",
       "      <td>158.2</td>\n",
       "      <td>25.7</td>\n",
       "      <td>162.9</td>\n",
       "      <td>197.7</td>\n",
       "      <td>NaN</td>\n",
       "      <td>NaN</td>\n",
       "      <td>10.7</td>\n",
       "      <td>505.0000</td>\n",
       "    </tr>\n",
       "    <tr>\n",
       "      <th>896</th>\n",
       "      <td>2023</td>\n",
       "      <td>18.3</td>\n",
       "      <td>174.2</td>\n",
       "      <td>191.4</td>\n",
       "      <td>22.3</td>\n",
       "      <td>33.6</td>\n",
       "      <td>202.7</td>\n",
       "      <td>NaN</td>\n",
       "      <td>377.0</td>\n",
       "      <td>72.3</td>\n",
       "      <td>26.7</td>\n",
       "      <td>164.3</td>\n",
       "      <td>232.0</td>\n",
       "      <td>537.8724</td>\n",
       "    </tr>\n",
       "  </tbody>\n",
       "</table>\n",
       "</div>"
      ],
      "text/plain": [
       "        년  5월평균기온  5월합강수량(mm)  5월합계일조시간  6월평균기온  6월합강수량(mm)  6월합계일조시간  7월평균기온  \\\n",
       "790  2000    16.1        29.2     215.0    21.4       203.9     158.2    25.7   \n",
       "896  2023    18.3       174.2     191.4    22.3        33.6     202.7     NaN   \n",
       "\n",
       "     7월합강수량(mm)  7월합계일조시간  8월평균기온  8월합강수량(mm)  8월합계일조시간  단위면적당 생산량  \n",
       "790       162.9     197.7     NaN         NaN      10.7   505.0000  \n",
       "896       377.0      72.3    26.7       164.3     232.0   537.8724  "
      ]
     },
     "execution_count": 57,
     "metadata": {},
     "output_type": "execute_result"
    }
   ],
   "source": [
    "miss_row = df[df.isna().any(axis=1)]\n",
    "print(miss_row.size)\n",
    "miss_row.head(2)"
   ]
  },
  {
   "cell_type": "code",
   "execution_count": 58,
   "metadata": {},
   "outputs": [],
   "source": [
    "df = df.dropna(axis=0)"
   ]
  },
  {
   "cell_type": "code",
   "execution_count": 59,
   "metadata": {},
   "outputs": [],
   "source": [
    "X = df.loc[:, df.columns != '단위면적당 생산량']\n",
    "y = df.loc[:, '단위면적당 생산량']\n",
    "\n",
    "# https://scikit-learn.org/stable/modules/generated/sklearn.model_selection.train_test_split.html\n",
    "X_train, X_val, y_train, y_val = train_test_split(X, y, test_size=0.2,shuffle=True)\n",
    "X_train = X_train.values\n",
    "X_val = X_val.values\n",
    "y_train = y_train.values \n",
    "y_val = y_val.values"
   ]
  },
  {
   "cell_type": "markdown",
   "metadata": {},
   "source": [
    "### 파라미터 관리"
   ]
  },
  {
   "cell_type": "code",
   "execution_count": 60,
   "metadata": {},
   "outputs": [],
   "source": [
    "parser = argparse.ArgumentParser()\n",
    "args = parser.parse_args('')"
   ]
  },
  {
   "cell_type": "code",
   "execution_count": 61,
   "metadata": {},
   "outputs": [],
   "source": [
    "args.epoch = 1000\n",
    "args.lr = 0.01\n",
    "args.in_dim = X_train.shape[-1]"
   ]
  },
  {
   "cell_type": "code",
   "execution_count": 62,
   "metadata": {},
   "outputs": [],
   "source": [
    "class Net(nn.Module):\n",
    "    def __init__(self, args):\n",
    "        super().__init__()\n",
    "        self.f1 = nn.Linear(args.in_dim, 128)\n",
    "        self.f2 = nn.Linear(128, 1)\n",
    "        # self.dropout = nn.Dropout(0.5)\n",
    "\n",
    "    def forward(self, x):\n",
    "        x = F.relu(self.f1(x))\n",
    "        # x = self.dropout(x)\n",
    "        return self.f2(x)"
   ]
  },
  {
   "cell_type": "code",
   "execution_count": 63,
   "metadata": {},
   "outputs": [
    {
     "data": {
      "text/plain": [
       "Net(\n",
       "  (f1): Linear(in_features=13, out_features=128, bias=True)\n",
       "  (f2): Linear(in_features=128, out_features=1, bias=True)\n",
       ")"
      ]
     },
     "execution_count": 63,
     "metadata": {},
     "output_type": "execute_result"
    }
   ],
   "source": [
    "net = Net(args)\n",
    "net"
   ]
  },
  {
   "cell_type": "code",
   "execution_count": 64,
   "metadata": {},
   "outputs": [],
   "source": [
    "# 코드 출처 : https://github.com/katsura-jp/pytorch-cosine-annealing-with-warmup/blob/master/cosine_annealing_warmup/scheduler.py\n",
    "class CosineAnnealingWarmupRestarts(_LRScheduler):\n",
    "    \"\"\"\n",
    "        optimizer (Optimizer): Wrapped optimizer.\n",
    "        first_cycle_steps (int): First cycle step size.\n",
    "        cycle_mult(float): Cycle steps magnification. Default: -1.\n",
    "        max_lr(float): First cycle's max learning rate. Default: 0.1.\n",
    "        min_lr(float): Min learning rate. Default: 0.001.\n",
    "        warmup_steps(int): Linear warmup step size. Default: 0.\n",
    "        gamma(float): Decrease rate of max learning rate by cycle. Default: 1.\n",
    "        last_epoch (int): The index of last epoch. Default: -1.\n",
    "    \"\"\"\n",
    "    \n",
    "    def __init__(self,\n",
    "                 optimizer : torch.optim.Optimizer,\n",
    "                 first_cycle_steps : int,\n",
    "                 cycle_mult : float = 1.,\n",
    "                 max_lr : float = 0.1,\n",
    "                 min_lr : float = 0.001,\n",
    "                 warmup_steps : int = 0,\n",
    "                 gamma : float = 1.,\n",
    "                 last_epoch : int = -1\n",
    "        ):\n",
    "        assert warmup_steps < first_cycle_steps\n",
    "        \n",
    "        self.first_cycle_steps = first_cycle_steps # first cycle step size\n",
    "        self.cycle_mult = cycle_mult # cycle steps magnification\n",
    "        self.base_max_lr = max_lr # first max learning rate\n",
    "        self.max_lr = max_lr # max learning rate in the current cycle\n",
    "        self.min_lr = min_lr # min learning rate\n",
    "        self.warmup_steps = warmup_steps # warmup step size\n",
    "        self.gamma = gamma # decrease rate of max learning rate by cycle\n",
    "        \n",
    "        self.cur_cycle_steps = first_cycle_steps # first cycle step size\n",
    "        self.cycle = 0 # cycle count\n",
    "        self.step_in_cycle = last_epoch # step size of the current cycle\n",
    "        \n",
    "        super(CosineAnnealingWarmupRestarts, self).__init__(optimizer, last_epoch)\n",
    "        \n",
    "        # set learning rate min_lr\n",
    "        self.init_lr()\n",
    "    \n",
    "    def init_lr(self):\n",
    "        self.base_lrs = []\n",
    "        for param_group in self.optimizer.param_groups:\n",
    "            param_group['lr'] = self.min_lr\n",
    "            self.base_lrs.append(self.min_lr)\n",
    "    \n",
    "    def get_lr(self):\n",
    "        if self.step_in_cycle == -1:\n",
    "            return self.base_lrs\n",
    "        elif self.step_in_cycle < self.warmup_steps:\n",
    "            return [(self.max_lr - base_lr)*self.step_in_cycle / self.warmup_steps + base_lr for base_lr in self.base_lrs]\n",
    "        else:\n",
    "            return [base_lr + (self.max_lr - base_lr) \\\n",
    "                    * (1 + math.cos(math.pi * (self.step_in_cycle-self.warmup_steps) \\\n",
    "                                    / (self.cur_cycle_steps - self.warmup_steps))) / 2\n",
    "                    for base_lr in self.base_lrs]\n",
    "\n",
    "    def step(self, epoch=None):\n",
    "        if epoch is None:\n",
    "            epoch = self.last_epoch + 1\n",
    "            self.step_in_cycle = self.step_in_cycle + 1\n",
    "            if self.step_in_cycle >= self.cur_cycle_steps:\n",
    "                self.cycle += 1\n",
    "                self.step_in_cycle = self.step_in_cycle - self.cur_cycle_steps\n",
    "                self.cur_cycle_steps = int((self.cur_cycle_steps - self.warmup_steps) * self.cycle_mult) + self.warmup_steps\n",
    "        else:\n",
    "            if epoch >= self.first_cycle_steps:\n",
    "                if self.cycle_mult == 1.:\n",
    "                    self.step_in_cycle = epoch % self.first_cycle_steps\n",
    "                    self.cycle = epoch // self.first_cycle_steps\n",
    "                else:\n",
    "                    n = int(math.log((epoch / self.first_cycle_steps * (self.cycle_mult - 1) + 1), self.cycle_mult))\n",
    "                    self.cycle = n\n",
    "                    self.step_in_cycle = epoch - int(self.first_cycle_steps * (self.cycle_mult ** n - 1) / (self.cycle_mult - 1))\n",
    "                    self.cur_cycle_steps = self.first_cycle_steps * self.cycle_mult ** (n)\n",
    "            else:\n",
    "                self.cur_cycle_steps = self.first_cycle_steps\n",
    "                self.step_in_cycle = epoch\n",
    "                \n",
    "        self.max_lr = self.base_max_lr * (self.gamma**self.cycle)\n",
    "        self.last_epoch = math.floor(epoch)\n",
    "        for param_group, lr in zip(self.optimizer.param_groups, self.get_lr()):\n",
    "            param_group['lr'] = lr"
   ]
  },
  {
   "cell_type": "code",
   "execution_count": 65,
   "metadata": {},
   "outputs": [],
   "source": [
    "criterion = nn.MSELoss()\n",
    "optimizer = optim.SGD(net.parameters(), lr=args.lr, momentum=0.9, nesterov=True)\n",
    "scheduler = CosineAnnealingWarmupRestarts(optimizer, first_cycle_steps=100, gamma=0.9)"
   ]
  },
  {
   "cell_type": "markdown",
   "metadata": {},
   "source": [
    "## dataloader"
   ]
  },
  {
   "cell_type": "code",
   "execution_count": 66,
   "metadata": {},
   "outputs": [],
   "source": [
    "class Custom_Dataset():\n",
    "    def __init__(self, x, y):\n",
    "        self.x = torch.tensor(x).float()\n",
    "        self.y = torch.tensor(y).float()\n",
    "    \n",
    "    def __len__(self):\n",
    "        return len(self.x)\n",
    "\n",
    "    def __getitem__(self, ind):\n",
    "        return self.x[ind], self.y[ind]"
   ]
  },
  {
   "cell_type": "code",
   "execution_count": 67,
   "metadata": {},
   "outputs": [],
   "source": [
    "train_dataset = Custom_Dataset(X_train, y_train)\n",
    "val_dataset = Custom_Dataset(X_val, y_val)\n",
    "train_loader = DataLoader(train_dataset, len(train_dataset), shuffle=True)\n",
    "val_loader = DataLoader(val_dataset, len(val_dataset), shuffle=False)"
   ]
  },
  {
   "cell_type": "markdown",
   "metadata": {},
   "source": [
    "## train & validate"
   ]
  },
  {
   "cell_type": "code",
   "execution_count": 68,
   "metadata": {},
   "outputs": [
    {
     "name": "stderr",
     "output_type": "stream",
     "text": [
      "  0%|          | 0/1000 [00:00<?, ?it/s]"
     ]
    },
    {
     "name": "stderr",
     "output_type": "stream",
     "text": [
      "100%|██████████| 1000/1000 [00:29<00:00, 33.48it/s]\n"
     ]
    }
   ],
   "source": [
    "list_epoch = []\n",
    "list_train_loss = []\n",
    "list_val_loss = []\n",
    "list_lr = []\n",
    "\n",
    "for epoch in tqdm(range(1, args.epoch+1)):\n",
    "    # train\n",
    "    net.train()\n",
    "    total_train_loss = 0\n",
    "    for inputs, labels in train_loader:\n",
    "        optimizer.zero_grad()\n",
    "        output = net(inputs)\n",
    "        loss = criterion(output.squeeze(), labels)\n",
    "        loss.backward()\n",
    "        optimizer.step()\n",
    "\n",
    "        total_train_loss += loss.item()\n",
    "\n",
    "    average_train_loss = total_train_loss / (len(train_loader))\n",
    "    scheduler.step()\n",
    "\n",
    "    # validation\n",
    "    net.eval()\n",
    "    total_val_loss = 0\n",
    "    for inputs, labels in val_loader:\n",
    "        with torch.no_grad():\n",
    "            output = net(inputs)\n",
    "            total_val_loss += criterion(output.squeeze(), labels).item()\n",
    "    \n",
    "    average_val_loss = total_val_loss / (len(val_loader))\n",
    "    \n",
    "    # plot을 위한 데이터 저장\n",
    "    list_epoch.append(epoch)\n",
    "    list_train_loss.append(average_train_loss)\n",
    "    list_val_loss.append(average_val_loss)\n",
    "    list_lr.append(scheduler.get_lr())"
   ]
  },
  {
   "cell_type": "markdown",
   "metadata": {},
   "source": [
    "### plot 찍어보기"
   ]
  },
  {
   "cell_type": "code",
   "execution_count": 71,
   "metadata": {},
   "outputs": [
    {
     "data": {
      "image/png": "[encoded data removed]",
      "text/plain": [
       "<Figure size 1500x500 with 2 Axes>"
      ]
     },
     "metadata": {},
     "output_type": "display_data"
    }
   ],
   "source": [
    "fig = plt.figure(figsize=(15,5))\n",
    "\n",
    "# ====== Loss Fluctuation ====== #\n",
    "ax1 = fig.add_subplot(1, 2, 1)\n",
    "ax1.plot(list_epoch, list_train_loss, label='train_loss')\n",
    "ax1.plot(list_epoch, list_val_loss, '--', label='val_loss')\n",
    "ax1.set_xlabel('epoch')\n",
    "ax1.set_ylabel('loss')\n",
    "ax1.set_ylim([1000, 2000])\n",
    "ax1.grid()\n",
    "ax1.legend()\n",
    "ax1.set_title('epoch vs loss')\n",
    "\n",
    "# ====== lr Fluctuation ====== #\n",
    "ax2 = fig.add_subplot(1, 2, 2)\n",
    "ax2.plot(list_epoch, list_lr, marker='x', label='learning rate')\n",
    "ax2.set_xlabel('epoch')\n",
    "ax2.set_ylabel('lr')\n",
    "ax2.grid()\n",
    "ax2.legend()\n",
    "ax2.set_title('epoch vs lr')\n",
    "\n",
    "plt.show()"
   ]
  },
  {
   "cell_type": "code",
   "execution_count": 72,
   "metadata": {},
   "outputs": [
    {
     "name": "stdout",
     "output_type": "stream",
     "text": [
      "train loss: 1705.1722192382813, val loss: 1589.352294921875\n"
     ]
    }
   ],
   "source": [
    "rep_train_loss = list_train_loss[-100:]\n",
    "rep_val_loss = list_val_loss[-100:]\n",
    "last_train_loss = sum(rep_train_loss)/len(rep_train_loss)\n",
    "last_val_loss = sum(rep_val_loss)/len(rep_val_loss)\n",
    "\n",
    "print(f\"train loss: {last_train_loss}, val loss: {last_val_loss}\")"
   ]
  }
 ],
 "metadata": {
  "kernelspec": {
   "display_name": "base",
   "language": "python",
   "name": "python3"
  },
  "language_info": {
   "codemirror_mode": {
    "name": "ipython",
    "version": 3
   },
   "file_extension": ".py",
   "mimetype": "text/x-python",
   "name": "python",
   "nbconvert_exporter": "python",
   "pygments_lexer": "ipython3",
   "version": "3.10.9"
  }
 },
 "nbformat": 4,
 "nbformat_minor": 2
}
